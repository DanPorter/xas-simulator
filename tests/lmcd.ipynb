{
 "cells": [
  {
   "cell_type": "markdown",
   "metadata": {},
   "source": [
    "# XAS Simulator\n",
    "### Using Quanty"
   ]
  },
  {
   "cell_type": "code",
   "execution_count": 1,
   "metadata": {},
   "outputs": [],
   "source": [
    "ion = 'Co'  # Ion Name\n",
    "ch = 2  # Charge\n",
    "beta = 0.8  # Beta\n",
    "Dq = 1.0  # 10Dq\n",
    "mag_field = [3, 0,2]\n",
    "exchange_field = [3, 0, 2]\n",
    "temperature = 1.0  # T (K)"
   ]
  },
  {
   "cell_type": "code",
   "execution_count": 2,
   "metadata": {},
   "outputs": [],
   "source": [
    "%matplotlib qt"
   ]
  },
  {
   "cell_type": "markdown",
   "metadata": {},
   "source": []
  },
  {
   "cell_type": "code",
   "execution_count": 3,
   "metadata": {},
   "outputs": [
    {
     "name": "stdout",
     "output_type": "stream",
     "text": [
      "Writable TEMPDIR = /var/folders/gm/sc2p_25s25x1bqyv3pgx160h0000gv/T\n"
     ]
    }
   ],
   "source": [
    "from xas_simulator.XMCD_src2 import XAS_Lua\n",
    "from xas_simulator.params_short import parameters, xray_data\n",
    "\n",
    "# DEFAULT_QUANTY_PATH = '/scratch/grp66007/software/xmcd_beamline_simulator/quanty_lin/Quanty'\n",
    "#DEFAULT_QUANTY_PATH = r\"C:\\Users\\grp66007\\Documents\\quanty\\quanty_win\\QuantyWin64.exe\"\n",
    "DEFAULT_QUANTY_PATH=\"/Users/Botel001/Programs/Quanty\"\n",
    "\n",
    "# Check ion\n",
    "if ion not in parameters or ion not in xray_data['elements']:\n",
    "    message = f\"Ion '{ion}' not available. Available ions are:\\n\"\n",
    "    message += ', '.join(parameters)\n",
    "    raise Exception(message)\n",
    "\n",
    "# Check charge\n",
    "ch_str = f\"{abs(ch)}+\" if ch > 0 else f\"{abs(ch)}-\"\n",
    "if ch_str not in xray_data['elements'][ion]['charges']:\n",
    "    message = f\"Ionic charge: '{ion}{ch_str}' is not available.\\nAvailable charges for {ion} are:\\n\"\n",
    "    message += ','.join(xray_data['elements'][ion]['charges'].keys())\n",
    "    raise Exception(message)\n",
    "\n",
    "# build parameters\n",
    "calculation_parameters = {\n",
    "    'Nelec': parameters[ion]['Nelec'],\n",
    "    'H_atomic': 1,\n",
    "    'H_crystal_field': 1,\n",
    "    'H_3d_ligands_hybridization_lmct': 0,\n",
    "    'H_3d_ligands_hybridization_mlct': 0,\n",
    "    'H_magnetic_field': 1,\n",
    "    'H_exchange_field': 1,\n",
    "    'Bx_i': mag_field[0],\n",
    "    'By_i': mag_field[1],\n",
    "    'Bz_i': mag_field[2],\n",
    "    'Bx_f': mag_field[0],\n",
    "    'By_f': mag_field[1],\n",
    "    'Bz_f': mag_field[2],\n",
    "    'Hx_i': exchange_field[0],\n",
    "    'Hy_i': exchange_field[1],\n",
    "    'Hz_i': exchange_field[2],\n",
    "    'Hx_f': exchange_field[0],\n",
    "    'Hy_f': exchange_field[1],\n",
    "    'Hz_f': exchange_field[2],\n",
    "    'T': temperature,\n",
    "}\n",
    "\n"
   ]
  },
  {
   "cell_type": "code",
   "execution_count": 4,
   "metadata": {},
   "outputs": [
    {
     "name": "stdout",
     "output_type": "stream",
     "text": [
      "3d7 2p5,3d8\n",
      "1025 1025\n",
      "Theoretical values (Quanty):\n"
     ]
    },
    {
     "data": {
      "text/html": [
       "<table>\n",
       "<thead>\n",
       "<tr><th style=\"text-align: right;\">  L$_z$</th><th style=\"text-align: right;\">  T$_{z}$</th><th style=\"text-align: right;\">  S$_{z}$</th><th style=\"text-align: right;\">  S$_{eff}$</th></tr>\n",
       "</thead>\n",
       "<tbody>\n",
       "<tr><td style=\"text-align: right;\">-0.8011</td><td style=\"text-align: right;\">  -0.0278</td><td style=\"text-align: right;\">   -0.831</td><td style=\"text-align: right;\">    -0.8588</td></tr>\n",
       "</tbody>\n",
       "</table>"
      ],
      "text/plain": [
       "'<table>\\n<thead>\\n<tr><th style=\"text-align: right;\">  L$_z$</th><th style=\"text-align: right;\">  T$_{z}$</th><th style=\"text-align: right;\">  S$_{z}$</th><th style=\"text-align: right;\">  S$_{eff}$</th></tr>\\n</thead>\\n<tbody>\\n<tr><td style=\"text-align: right;\">-0.8011</td><td style=\"text-align: right;\">  -0.0278</td><td style=\"text-align: right;\">   -0.831</td><td style=\"text-align: right;\">    -0.8588</td></tr>\\n</tbody>\\n</table>'"
      ]
     },
     "metadata": {},
     "output_type": "display_data"
    },
    {
     "name": "stdout",
     "output_type": "stream",
     "text": [
      "Sum rules :\n"
     ]
    },
    {
     "data": {
      "text/html": [
       "<table>\n",
       "<thead>\n",
       "<tr><th style=\"text-align: right;\">  sL$_z$</th><th style=\"text-align: right;\">  sS$_{eff}$</th></tr>\n",
       "</thead>\n",
       "<tbody>\n",
       "<tr><td style=\"text-align: right;\">0.799356</td><td style=\"text-align: right;\">   -0.850794</td></tr>\n",
       "</tbody>\n",
       "</table>"
      ],
      "text/plain": [
       "'<table>\\n<thead>\\n<tr><th style=\"text-align: right;\">  sL$_z$</th><th style=\"text-align: right;\">  sS$_{eff}$</th></tr>\\n</thead>\\n<tbody>\\n<tr><td style=\"text-align: right;\">0.799356</td><td style=\"text-align: right;\">   -0.850794</td></tr>\\n</tbody>\\n</table>'"
      ]
     },
     "metadata": {},
     "output_type": "display_data"
    },
    {
     "name": "stdout",
     "output_type": "stream",
     "text": [
      "Sum rules 0:\n"
     ]
    },
    {
     "data": {
      "text/html": [
       "<table>\n",
       "<thead>\n",
       "<tr><th style=\"text-align: right;\">  s$_0$L$_z$</th><th style=\"text-align: right;\">  s$_0$S$_{eff}$</th></tr>\n",
       "</thead>\n",
       "<tbody>\n",
       "<tr><td style=\"text-align: right;\">    0.798561</td><td style=\"text-align: right;\">       -0.849947</td></tr>\n",
       "</tbody>\n",
       "</table>"
      ],
      "text/plain": [
       "'<table>\\n<thead>\\n<tr><th style=\"text-align: right;\">  s$_0$L$_z$</th><th style=\"text-align: right;\">  s$_0$S$_{eff}$</th></tr>\\n</thead>\\n<tbody>\\n<tr><td style=\"text-align: right;\">    0.798561</td><td style=\"text-align: right;\">       -0.849947</td></tr>\\n</tbody>\\n</table>'"
      ]
     },
     "metadata": {},
     "output_type": "display_data"
    },
    {
     "name": "stdout",
     "output_type": "stream",
     "text": [
      "Deviations:\n"
     ]
    },
    {
     "data": {
      "text/html": [
       "<table>\n",
       "<thead>\n",
       "<tr><th style=\"text-align: right;\">  $\\Delta$XAS (%)</th><th style=\"text-align: right;\">  $\\Delta$L$_{z}$ (%)</th><th style=\"text-align: right;\">  $\\Delta$S$_{eff}$ (%)</th><th style=\"text-align: right;\">  $\\Delta_0$L$_{z}$ (%)</th><th style=\"text-align: right;\">  $\\Delta_0$S$_{eff}$ (%)</th></tr>\n",
       "</thead>\n",
       "<tbody>\n",
       "<tr><td style=\"text-align: right;\">         0.199286</td><td style=\"text-align: right;\">            -0.217649</td><td style=\"text-align: right;\">              -0.932259</td><td style=\"text-align: right;\">              -0.316977</td><td style=\"text-align: right;\">                 -1.03087</td></tr>\n",
       "</tbody>\n",
       "</table>"
      ],
      "text/plain": [
       "'<table>\\n<thead>\\n<tr><th style=\"text-align: right;\">  $\\\\Delta$XAS (%)</th><th style=\"text-align: right;\">  $\\\\Delta$L$_{z}$ (%)</th><th style=\"text-align: right;\">  $\\\\Delta$S$_{eff}$ (%)</th><th style=\"text-align: right;\">  $\\\\Delta_0$L$_{z}$ (%)</th><th style=\"text-align: right;\">  $\\\\Delta_0$S$_{eff}$ (%)</th></tr>\\n</thead>\\n<tbody>\\n<tr><td style=\"text-align: right;\">         0.199286</td><td style=\"text-align: right;\">            -0.217649</td><td style=\"text-align: right;\">              -0.932259</td><td style=\"text-align: right;\">              -0.316977</td><td style=\"text-align: right;\">                 -1.03087</td></tr>\\n</tbody>\\n</table>'"
      ]
     },
     "metadata": {},
     "output_type": "display_data"
    }
   ],
   "source": [
    "simulation = XAS_Lua(\n",
    "    ion=ion,\n",
    "    symm='Oh',\n",
    "    charge=ch_str,\n",
    "    params=calculation_parameters,\n",
    "    params_json=xray_data,\n",
    "    quanty_path=DEFAULT_QUANTY_PATH,\n",
    "    output_path='/tmp/'\n",
    ")\n",
    "simulation.write_header()\n",
    "simulation.H_init()\n",
    "simulation.setH_terms()\n",
    "simulation.set_electrons()\n",
    "simulation.define_atomic_term()\n",
    "simulation.define_crystal_field_term()\n",
    "simulation.define_external_field_term()\n",
    "simulation.setTemperature()\n",
    "simulation.setRestrictions()\n",
    "simulation.set_iterative_solver()\n",
    "simulation.set_spectra_functions()\n",
    "simulation.define_transitions([0, 0, 1], [0, 1, 0], [1, 0, 0])\n",
    "simulation.set_spectra_lists()\n",
    "# make and use a tmp directory\n",
    "simulation.calculate_and_save_spectra()\n",
    "simulation.run()  # run quanty!\n",
    "simulation.treat_output()\n",
    "simulation.post_proc()"
   ]
  },
  {
   "cell_type": "code",
   "execution_count": 5,
   "metadata": {},
   "outputs": [
    {
     "name": "stdout",
     "output_type": "stream",
     "text": [
      "3d7 2p5,3d8\n",
      "1025 1025\n",
      "Theoretical values (Quanty):\n"
     ]
    },
    {
     "data": {
      "text/html": [
       "<table>\n",
       "<thead>\n",
       "<tr><th style=\"text-align: right;\">  L$_z$</th><th style=\"text-align: right;\">  T$_{z}$</th><th style=\"text-align: right;\">  S$_{z}$</th><th style=\"text-align: right;\">  S$_{eff}$</th></tr>\n",
       "</thead>\n",
       "<tbody>\n",
       "<tr><td style=\"text-align: right;\">-0.9578</td><td style=\"text-align: right;\">   0.0605</td><td style=\"text-align: right;\">  -0.8319</td><td style=\"text-align: right;\">    -0.7714</td></tr>\n",
       "</tbody>\n",
       "</table>"
      ],
      "text/plain": [
       "'<table>\\n<thead>\\n<tr><th style=\"text-align: right;\">  L$_z$</th><th style=\"text-align: right;\">  T$_{z}$</th><th style=\"text-align: right;\">  S$_{z}$</th><th style=\"text-align: right;\">  S$_{eff}$</th></tr>\\n</thead>\\n<tbody>\\n<tr><td style=\"text-align: right;\">-0.9578</td><td style=\"text-align: right;\">   0.0605</td><td style=\"text-align: right;\">  -0.8319</td><td style=\"text-align: right;\">    -0.7714</td></tr>\\n</tbody>\\n</table>'"
      ]
     },
     "metadata": {},
     "output_type": "display_data"
    },
    {
     "name": "stdout",
     "output_type": "stream",
     "text": [
      "Sum rules :\n"
     ]
    },
    {
     "data": {
      "text/html": [
       "<table>\n",
       "<thead>\n",
       "<tr><th style=\"text-align: right;\">  sL$_z$</th><th style=\"text-align: right;\">  sS$_{eff}$</th></tr>\n",
       "</thead>\n",
       "<tbody>\n",
       "<tr><td style=\"text-align: right;\">0.958538</td><td style=\"text-align: right;\">    -0.56581</td></tr>\n",
       "</tbody>\n",
       "</table>"
      ],
      "text/plain": [
       "'<table>\\n<thead>\\n<tr><th style=\"text-align: right;\">  sL$_z$</th><th style=\"text-align: right;\">  sS$_{eff}$</th></tr>\\n</thead>\\n<tbody>\\n<tr><td style=\"text-align: right;\">0.958538</td><td style=\"text-align: right;\">    -0.56581</td></tr>\\n</tbody>\\n</table>'"
      ]
     },
     "metadata": {},
     "output_type": "display_data"
    },
    {
     "name": "stdout",
     "output_type": "stream",
     "text": [
      "Sum rules 0:\n"
     ]
    },
    {
     "data": {
      "text/html": [
       "<table>\n",
       "<thead>\n",
       "<tr><th style=\"text-align: right;\">  s$_0$L$_z$</th><th style=\"text-align: right;\">  s$_0$S$_{eff}$</th></tr>\n",
       "</thead>\n",
       "<tbody>\n",
       "<tr><td style=\"text-align: right;\">    0.958805</td><td style=\"text-align: right;\">       -0.565968</td></tr>\n",
       "</tbody>\n",
       "</table>"
      ],
      "text/plain": [
       "'<table>\\n<thead>\\n<tr><th style=\"text-align: right;\">  s$_0$L$_z$</th><th style=\"text-align: right;\">  s$_0$S$_{eff}$</th></tr>\\n</thead>\\n<tbody>\\n<tr><td style=\"text-align: right;\">    0.958805</td><td style=\"text-align: right;\">       -0.565968</td></tr>\\n</tbody>\\n</table>'"
      ]
     },
     "metadata": {},
     "output_type": "display_data"
    },
    {
     "name": "stdout",
     "output_type": "stream",
     "text": [
      "Deviations:\n"
     ]
    },
    {
     "data": {
      "text/html": [
       "<table>\n",
       "<thead>\n",
       "<tr><th style=\"text-align: right;\">  $\\Delta$XAS (%)</th><th style=\"text-align: right;\">  $\\Delta$L$_{z}$ (%)</th><th style=\"text-align: right;\">  $\\Delta$S$_{eff}$ (%)</th><th style=\"text-align: right;\">  $\\Delta_0$L$_{z}$ (%)</th><th style=\"text-align: right;\">  $\\Delta_0$S$_{eff}$ (%)</th></tr>\n",
       "</thead>\n",
       "<tbody>\n",
       "<tr><td style=\"text-align: right;\">       -0.0557646</td><td style=\"text-align: right;\">            0.0770092</td><td style=\"text-align: right;\">               -26.6516</td><td style=\"text-align: right;\">               0.104921</td><td style=\"text-align: right;\">                 -26.6311</td></tr>\n",
       "</tbody>\n",
       "</table>"
      ],
      "text/plain": [
       "'<table>\\n<thead>\\n<tr><th style=\"text-align: right;\">  $\\\\Delta$XAS (%)</th><th style=\"text-align: right;\">  $\\\\Delta$L$_{z}$ (%)</th><th style=\"text-align: right;\">  $\\\\Delta$S$_{eff}$ (%)</th><th style=\"text-align: right;\">  $\\\\Delta_0$L$_{z}$ (%)</th><th style=\"text-align: right;\">  $\\\\Delta_0$S$_{eff}$ (%)</th></tr>\\n</thead>\\n<tbody>\\n<tr><td style=\"text-align: right;\">       -0.0557646</td><td style=\"text-align: right;\">            0.0770092</td><td style=\"text-align: right;\">               -26.6516</td><td style=\"text-align: right;\">               0.104921</td><td style=\"text-align: right;\">                 -26.6311</td></tr>\\n</tbody>\\n</table>'"
      ]
     },
     "metadata": {},
     "output_type": "display_data"
    }
   ],
   "source": [
    "simulation = XAS_Lua(\n",
    "    ion=ion,\n",
    "    symm='C3v',\n",
    "    charge=ch_str,\n",
    "    params=calculation_parameters,\n",
    "    params_json=xray_data,\n",
    "    quanty_path=DEFAULT_QUANTY_PATH,\n",
    "    output_path='/tmp/'\n",
    ")\n",
    "simulation.write_header()\n",
    "simulation.H_init()\n",
    "simulation.setH_terms()\n",
    "simulation.set_electrons()\n",
    "simulation.define_atomic_term()\n",
    "simulation.define_crystal_field_term()\n",
    "simulation.define_external_field_term()\n",
    "simulation.setTemperature()\n",
    "simulation.setRestrictions()\n",
    "simulation.set_iterative_solver()\n",
    "simulation.set_spectra_functions()\n",
    "simulation.define_transitions([0, 0, 1], [0, 1, 0], [1, 0, 0])\n",
    "simulation.set_spectra_lists()\n",
    "# make and use a tmp directory\n",
    "simulation.calculate_and_save_spectra()\n",
    "simulation.run()  # run quanty!\n",
    "simulation.treat_output()\n",
    "simulation.post_proc()"
   ]
  },
  {
   "cell_type": "code",
   "execution_count": 6,
   "metadata": {},
   "outputs": [],
   "source": [
    "# build parameters\n",
    "calculation_parameters = {\n",
    "    'Nelec': parameters[ion]['Nelec'],\n",
    "    'H_atomic': 1,\n",
    "    'H_crystal_field': 1,\n",
    "    'H_3d_ligands_hybridization_lmct': 1,\n",
    "    'H_3d_ligands_hybridization_mlct': 0,\n",
    "    'H_magnetic_field': 1,\n",
    "    'H_exchange_field': 1,\n",
    "    'Bx_i': mag_field[0],\n",
    "    'By_i': mag_field[1],\n",
    "    'Bz_i': mag_field[2],\n",
    "    'Bx_f': mag_field[0],\n",
    "    'By_f': mag_field[1],\n",
    "    'Bz_f': mag_field[2],\n",
    "    'Hx_i': exchange_field[0],\n",
    "    'Hy_i': exchange_field[1],\n",
    "    'Hz_i': exchange_field[2],\n",
    "    'Hx_f': exchange_field[0],\n",
    "    'Hy_f': exchange_field[1],\n",
    "    'Hz_f': exchange_field[2],\n",
    "    'T': temperature,\n",
    "    'Delta_L1_i': 3,\n",
    "    'Delta_L1_f': 2,\n",
    "    'Veg_L1':2,\n",
    "    'Vt2g_L1':1,\n",
    "    'tenDq_L1':0.7\n",
    "    \n",
    "}"
   ]
  },
  {
   "cell_type": "code",
   "execution_count": 9,
   "metadata": {},
   "outputs": [
    {
     "name": "stdout",
     "output_type": "stream",
     "text": [
      "3d7 2p5,3d8\n",
      "1025 1025\n",
      "Theoretical values (Quanty):\n"
     ]
    },
    {
     "data": {
      "text/html": [
       "<table>\n",
       "<thead>\n",
       "<tr><th style=\"text-align: right;\">  L$_z$</th><th style=\"text-align: right;\">  T$_{z}$</th><th style=\"text-align: right;\">  S$_{z}$</th><th style=\"text-align: right;\">  S$_{eff}$</th></tr>\n",
       "</thead>\n",
       "<tbody>\n",
       "<tr><td style=\"text-align: right;\">-0.7667</td><td style=\"text-align: right;\">  -0.0348</td><td style=\"text-align: right;\">  -0.7947</td><td style=\"text-align: right;\">    -0.8295</td></tr>\n",
       "</tbody>\n",
       "</table>"
      ],
      "text/plain": [
       "'<table>\\n<thead>\\n<tr><th style=\"text-align: right;\">  L$_z$</th><th style=\"text-align: right;\">  T$_{z}$</th><th style=\"text-align: right;\">  S$_{z}$</th><th style=\"text-align: right;\">  S$_{eff}$</th></tr>\\n</thead>\\n<tbody>\\n<tr><td style=\"text-align: right;\">-0.7667</td><td style=\"text-align: right;\">  -0.0348</td><td style=\"text-align: right;\">  -0.7947</td><td style=\"text-align: right;\">    -0.8295</td></tr>\\n</tbody>\\n</table>'"
      ]
     },
     "metadata": {},
     "output_type": "display_data"
    },
    {
     "name": "stdout",
     "output_type": "stream",
     "text": [
      "Sum rules :\n"
     ]
    },
    {
     "data": {
      "text/html": [
       "<table>\n",
       "<thead>\n",
       "<tr><th style=\"text-align: right;\">  sL$_z$</th><th style=\"text-align: right;\">  sS$_{eff}$</th></tr>\n",
       "</thead>\n",
       "<tbody>\n",
       "<tr><td style=\"text-align: right;\">0.800258</td><td style=\"text-align: right;\">   -0.881571</td></tr>\n",
       "</tbody>\n",
       "</table>"
      ],
      "text/plain": [
       "'<table>\\n<thead>\\n<tr><th style=\"text-align: right;\">  sL$_z$</th><th style=\"text-align: right;\">  sS$_{eff}$</th></tr>\\n</thead>\\n<tbody>\\n<tr><td style=\"text-align: right;\">0.800258</td><td style=\"text-align: right;\">   -0.881571</td></tr>\\n</tbody>\\n</table>'"
      ]
     },
     "metadata": {},
     "output_type": "display_data"
    },
    {
     "name": "stdout",
     "output_type": "stream",
     "text": [
      "Sum rules 0:\n"
     ]
    },
    {
     "data": {
      "text/html": [
       "<table>\n",
       "<thead>\n",
       "<tr><th style=\"text-align: right;\">  s$_0$L$_z$</th><th style=\"text-align: right;\">  s$_0$S$_{eff}$</th></tr>\n",
       "</thead>\n",
       "<tbody>\n",
       "<tr><td style=\"text-align: right;\">    0.799471</td><td style=\"text-align: right;\">       -0.880704</td></tr>\n",
       "</tbody>\n",
       "</table>"
      ],
      "text/plain": [
       "'<table>\\n<thead>\\n<tr><th style=\"text-align: right;\">  s$_0$L$_z$</th><th style=\"text-align: right;\">  s$_0$S$_{eff}$</th></tr>\\n</thead>\\n<tbody>\\n<tr><td style=\"text-align: right;\">    0.799471</td><td style=\"text-align: right;\">       -0.880704</td></tr>\\n</tbody>\\n</table>'"
      ]
     },
     "metadata": {},
     "output_type": "display_data"
    },
    {
     "name": "stdout",
     "output_type": "stream",
     "text": [
      "Deviations:\n"
     ]
    },
    {
     "data": {
      "text/html": [
       "<table>\n",
       "<thead>\n",
       "<tr><th style=\"text-align: right;\">  $\\Delta$XAS (%)</th><th style=\"text-align: right;\">  $\\Delta$L$_{z}$ (%)</th><th style=\"text-align: right;\">  $\\Delta$S$_{eff}$ (%)</th><th style=\"text-align: right;\">  $\\Delta_0$L$_{z}$ (%)</th><th style=\"text-align: right;\">  $\\Delta_0$S$_{eff}$ (%)</th></tr>\n",
       "</thead>\n",
       "<tbody>\n",
       "<tr><td style=\"text-align: right;\">         0.196905</td><td style=\"text-align: right;\">              4.37696</td><td style=\"text-align: right;\">                6.27736</td><td style=\"text-align: right;\">                 4.2743</td><td style=\"text-align: right;\">                  6.17283</td></tr>\n",
       "</tbody>\n",
       "</table>"
      ],
      "text/plain": [
       "'<table>\\n<thead>\\n<tr><th style=\"text-align: right;\">  $\\\\Delta$XAS (%)</th><th style=\"text-align: right;\">  $\\\\Delta$L$_{z}$ (%)</th><th style=\"text-align: right;\">  $\\\\Delta$S$_{eff}$ (%)</th><th style=\"text-align: right;\">  $\\\\Delta_0$L$_{z}$ (%)</th><th style=\"text-align: right;\">  $\\\\Delta_0$S$_{eff}$ (%)</th></tr>\\n</thead>\\n<tbody>\\n<tr><td style=\"text-align: right;\">         0.196905</td><td style=\"text-align: right;\">              4.37696</td><td style=\"text-align: right;\">                6.27736</td><td style=\"text-align: right;\">                 4.2743</td><td style=\"text-align: right;\">                  6.17283</td></tr>\\n</tbody>\\n</table>'"
      ]
     },
     "metadata": {},
     "output_type": "display_data"
    }
   ],
   "source": [
    "simulation = XAS_Lua(\n",
    "    ion=ion,\n",
    "    symm='Oh',\n",
    "    charge=ch_str,\n",
    "    params=calculation_parameters,\n",
    "    params_json=xray_data,\n",
    "    quanty_path=DEFAULT_QUANTY_PATH,\n",
    "    output_path='/tmp/'\n",
    ")\n",
    "simulation.write_header()\n",
    "simulation.H_init()\n",
    "simulation.setH_terms()\n",
    "simulation.set_electrons()\n",
    "simulation.define_atomic_term()\n",
    "simulation.define_crystal_field_term()\n",
    "simulation.define_external_field_term()\n",
    "simulation.setTemperature()\n",
    "simulation.setRestrictions()\n",
    "simulation.set_iterative_solver()\n",
    "simulation.set_spectra_functions()\n",
    "simulation.define_transitions([0, 0, 1], [0, 1, 0], [1, 0, 0])\n",
    "simulation.set_spectra_lists()\n",
    "# make and use a tmp directory\n",
    "simulation.calculate_and_save_spectra()\n",
    "simulation.run()  # run quanty!\n",
    "simulation.treat_output()\n",
    "simulation.post_proc()"
   ]
  },
  {
   "cell_type": "code",
   "execution_count": null,
   "metadata": {},
   "outputs": [],
   "source": []
  }
 ],
 "metadata": {
  "kernelspec": {
   "display_name": "Python 3 (ipykernel)",
   "language": "python",
   "name": "python3"
  },
  "language_info": {
   "codemirror_mode": {
    "name": "ipython",
    "version": 3
   },
   "file_extension": ".py",
   "mimetype": "text/x-python",
   "name": "python",
   "nbconvert_exporter": "python",
   "pygments_lexer": "ipython3",
   "version": "3.12.10"
  }
 },
 "nbformat": 4,
 "nbformat_minor": 4
}
